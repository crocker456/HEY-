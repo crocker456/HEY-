{
 "cells": [
  {
   "cell_type": "markdown",
   "metadata": {},
   "source": [
    "# NumPy Arrays\n",
    "\n",
    "NumPy arrays are an important in data analysis applications because they allow for the manupulation and use of arrays and tablular data."
   ]
  },
  {
   "cell_type": "code",
   "execution_count": 2,
   "metadata": {},
   "outputs": [],
   "source": [
    "import numpy as np\n",
    "\n",
    "x1 = np.random.randint(10, size=6) # One dimesional arrays\n",
    "x2 = np.random.randint(10, size=(3,4)) # Two dimensional array\n",
    "x3 = np.random.randint(10, size= (3,4,5)) # Three dimensional array"
   ]
  },
  {
   "cell_type": "markdown",
   "metadata": {},
   "source": [
    "Each array has arrtibutes ndim (the number of dimensions), shape (the size of each dimension), and size(the total size of the array)"
   ]
  },
  {
   "cell_type": "code",
   "execution_count": 3,
   "metadata": {},
   "outputs": [
    {
     "name": "stdout",
     "output_type": "stream",
     "text": [
      "x3 ndim: 3\n",
      "x3 shape (3, 4, 5)\n",
      "x3 size 60\n"
     ]
    }
   ],
   "source": [
    "print(\"x3 ndim:\", x3.ndim)\n",
    "print(\"x3 shape\", x3.shape)\n",
    "print(\"x3 size\", x3.size)"
   ]
  },
  {
   "cell_type": "code",
   "execution_count": 8,
   "metadata": {},
   "outputs": [
    {
     "name": "stdout",
     "output_type": "stream",
     "text": [
      "[[[5 2 1 9 8]\n",
      "  [5 3 6 4 0]\n",
      "  [3 4 2 9 4]\n",
      "  [7 9 7 3 8]]\n",
      "\n",
      " [[5 1 1 4 6]\n",
      "  [2 9 2 3 8]\n",
      "  [8 9 1 1 3]\n",
      "  [7 2 0 4 7]]\n",
      "\n",
      " [[2 8 7 9 4]\n",
      "  [5 2 2 4 5]\n",
      "  [5 7 7 3 9]\n",
      "  [2 7 4 0 7]]]\n",
      "[4 2 4 8 8 8]\n"
     ]
    }
   ],
   "source": [
    "# Three Dimensional array \n",
    "print(x3.view())"
   ]
  },
  {
   "cell_type": "code",
   "execution_count": 9,
   "metadata": {},
   "outputs": [
    {
     "name": "stdout",
     "output_type": "stream",
     "text": [
      "[4 2 4 8 8 8]\n"
     ]
    }
   ],
   "source": [
    "# One dimensional array\n",
    "print(x1.view())"
   ]
  },
  {
   "cell_type": "code",
   "execution_count": 11,
   "metadata": {},
   "outputs": [
    {
     "name": "stdout",
     "output_type": "stream",
     "text": [
      "dtpye: int64\n"
     ]
    }
   ],
   "source": [
    "# data type\n",
    "print(\"dtpye:\", x3.dtype)"
   ]
  },
  {
   "cell_type": "markdown",
   "metadata": {},
   "source": [
    "Other atttributes:\n",
    "\n",
    "* itemsize: lists the size (in bytes) of each array element\n",
    "\n",
    "* nbytes: lists the total size (in bytes) of the of the array \n",
    "\n",
    "* in genearl nbytes is equal to itemsize times size"
   ]
  },
  {
   "cell_type": "code",
   "execution_count": 15,
   "metadata": {},
   "outputs": [
    {
     "name": "stderr",
     "output_type": "stream",
     "text": [
      "/Users/bryant/anaconda3/lib/python3.6/site-packages/matplotlib/axes/_axes.py:6097: UserWarning: 2D hist input should be nsamples x nvariables;\n",
      " this looks transposed (shape is 4 x 5)\n",
      "  '(shape is %d x %d)' % inp.shape[::-1])\n"
     ]
    },
    {
     "data": {
      "text/plain": [
       "([array([ 0.,  0.,  0.,  1.,  0.,  2.,  0.,  1.,  0.,  0.]),\n",
       "  array([ 0.,  0.,  1.,  1.,  1.,  0.,  0.,  0.,  0.,  1.]),\n",
       "  array([ 0.,  1.,  1.,  0.,  0.,  0.,  1.,  1.,  0.,  0.]),\n",
       "  array([ 0.,  0.,  0.,  1.,  1.,  0.,  0.,  0.,  0.,  2.]),\n",
       "  array([ 1.,  0.,  0.,  0.,  1.,  0.,  0.,  0.,  2.,  0.])],\n",
       " array([ 0. ,  0.9,  1.8,  2.7,  3.6,  4.5,  5.4,  6.3,  7.2,  8.1,  9. ]),\n",
       " <a list of 5 Lists of Patches objects>)"
      ]
     },
     "execution_count": 15,
     "metadata": {},
     "output_type": "execute_result"
    }
   ],
   "source": [
    "import matplotlib.pyplot as plt \n",
    "\n",
    "plt.hist(x3[0])"
   ]
  },
  {
   "cell_type": "code",
   "execution_count": null,
   "metadata": {},
   "outputs": [],
   "source": []
  }
 ],
 "metadata": {
  "kernelspec": {
   "display_name": "Python 3",
   "language": "python",
   "name": "python3"
  },
  "language_info": {
   "codemirror_mode": {
    "name": "ipython",
    "version": 3
   },
   "file_extension": ".py",
   "mimetype": "text/x-python",
   "name": "python",
   "nbconvert_exporter": "python",
   "pygments_lexer": "ipython3",
   "version": "3.6.2"
  }
 },
 "nbformat": 4,
 "nbformat_minor": 2
}
