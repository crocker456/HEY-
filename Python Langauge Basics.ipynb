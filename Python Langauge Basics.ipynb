{
 "cells": [
  {
   "cell_type": "markdown",
   "metadata": {},
   "source": [
    "# Understanding how arrays are handled by python and NumPy\n",
    "\n",
    "* Python is a dynamically typed langauge - this makes it much easier to use for data analysis than statically typed languages like C, Java or Fortran."
   ]
  },
  {
   "cell_type": "markdown",
   "metadata": {},
   "source": [
    "Basic For Loops"
   ]
  },
  {
   "cell_type": "code",
   "execution_count": 4,
   "metadata": {},
   "outputs": [],
   "source": [
    "# Python code\n",
    "result = 0\n",
    "for i in range(100):\n",
    "    result += i\n",
    "    "
   ]
  },
  {
   "cell_type": "code",
   "execution_count": 2,
   "metadata": {},
   "outputs": [
    {
     "name": "stdout",
     "output_type": "stream",
     "text": [
      "4950\n"
     ]
    }
   ],
   "source": [
    "print(result)"
   ]
  },
  {
   "cell_type": "markdown",
   "metadata": {},
   "source": [
    "Data types in python are dynamically infered and do not need to be declared."
   ]
  },
  {
   "cell_type": "code",
   "execution_count": 6,
   "metadata": {},
   "outputs": [
    {
     "name": "stdout",
     "output_type": "stream",
     "text": [
      "<class 'int'>\n",
      "<class 'str'>\n"
     ]
    }
   ],
   "source": [
    "# Python code\n",
    "\n",
    "# create a integer variable \n",
    "x = 4\n",
    "print(type(x))\n",
    "# create a character string\n",
    "x = \"four\"\n",
    "print(type(x))"
   ]
  },
  {
   "cell_type": "markdown",
   "metadata": {},
   "source": [
    "### A python integer in more than just an integer.\n",
    "\n",
    "* Pointer to a compound C structure which contains several values.\n",
    "\n",
    "* ob_refcnt, a reference count that helps Python silently handle memory allocation and deallocation\n",
    "\n",
    "* ob_type, which encodes the type of the variable\n",
    "\n",
    "* ob_size, which specifies the size of the following data members\n",
    "\n",
    "* ob_digit, which contains the actual integer value that we expect the Python variable to represent."
   ]
  },
  {
   "cell_type": "markdown",
   "metadata": {},
   "source": [
    "### Lists, Lists, Lists\n",
    "Let's consider now what happens when we use a Python data structure that holds many Python objects. The standard mutable multi-element container in Python is the __list__. We can create a list of integers as follows:"
   ]
  },
  {
   "cell_type": "code",
   "execution_count": 11,
   "metadata": {},
   "outputs": [
    {
     "name": "stdout",
     "output_type": "stream",
     "text": [
      "[0, 1, 2, 3, 4, 5, 6, 7, 8, 9]\n",
      "<class 'int'>\n"
     ]
    }
   ],
   "source": [
    "# list of Integers\n",
    "L = list(range(10))\n",
    "print(L)\n",
    "print(type(L[0]))"
   ]
  },
  {
   "cell_type": "code",
   "execution_count": 13,
   "metadata": {},
   "outputs": [
    {
     "name": "stdout",
     "output_type": "stream",
     "text": [
      "['0', '1', '2', '3', '4', '5', '6', '7', '8', '9']\n",
      "<class 'str'>\n"
     ]
    }
   ],
   "source": [
    "# list of strings\n",
    "L2 = [str(c) for c in L]\n",
    "L2\n",
    "print(L2)\n",
    "print(type(L2[0]))"
   ]
  },
  {
   "cell_type": "code",
   "execution_count": 14,
   "metadata": {},
   "outputs": [
    {
     "data": {
      "text/plain": [
       "[bool, str, float, int]"
      ]
     },
     "execution_count": 14,
     "metadata": {},
     "output_type": "execute_result"
    }
   ],
   "source": [
    "# list of many types\n",
    "L3 = [True, \"2\", 3.0, 4]\n",
    "[type(item) for item in L3]"
   ]
  },
  {
   "cell_type": "markdown",
   "metadata": {},
   "source": [
    "List flexibility comes ar a cost: to allows these flexible types, each tiem in the list must contain:\n",
    "\n",
    "* It's own type info\n",
    "\n",
    "* Reference info\n",
    "\n",
    "* Other info, each item in list it's own python object."
   ]
  },
  {
   "cell_type": "markdown",
   "metadata": {},
   "source": [
    "### Fixed type Arrays"
   ]
  },
  {
   "cell_type": "code",
   "execution_count": 16,
   "metadata": {},
   "outputs": [
    {
     "name": "stdout",
     "output_type": "stream",
     "text": [
      "array('i', [0, 1, 2, 3, 4, 5, 6, 7, 8, 9])\n"
     ]
    }
   ],
   "source": [
    "# Python Array \n",
    "\n",
    "import array\n",
    "L = list(range(10))\n",
    "# 'i' is a type code tellling us that the array contains integers\n",
    "A = array.array('i', L)\n",
    "print(A)"
   ]
  },
  {
   "cell_type": "code",
   "execution_count": 18,
   "metadata": {},
   "outputs": [
    {
     "name": "stdout",
     "output_type": "stream",
     "text": [
      "[1 4 2 5 3]\n"
     ]
    }
   ],
   "source": [
    "# NumPy array\n",
    "import numpy as np \n",
    "# integer array\n",
    "print(np.array([1,4,2,5,3]))"
   ]
  },
  {
   "cell_type": "markdown",
   "metadata": {},
   "source": [
    "Note: arrays must have items of al the same type.  For example in the two scenarios above we had integer arrays"
   ]
  },
  {
   "cell_type": "code",
   "execution_count": 19,
   "metadata": {},
   "outputs": [
    {
     "data": {
      "text/plain": [
       "array([ 3.14,  4.  ,  2.  ,  3.  ])"
      ]
     },
     "execution_count": 19,
     "metadata": {},
     "output_type": "execute_result"
    }
   ],
   "source": [
    "# Funky Integer Float array \n",
    "\n",
    "np.array([3.14, 4, 2, 3])"
   ]
  },
  {
   "cell_type": "code",
   "execution_count": 20,
   "metadata": {},
   "outputs": [
    {
     "data": {
      "text/plain": [
       "array([ 1.,  2.,  3.,  4.], dtype=float32)"
      ]
     },
     "execution_count": 20,
     "metadata": {},
     "output_type": "execute_result"
    }
   ],
   "source": [
    "# Set the data type of resulting array\n",
    "\n",
    "np.array([1,2,3,4], dtype = 'float32')"
   ]
  },
  {
   "cell_type": "code",
   "execution_count": 21,
   "metadata": {},
   "outputs": [
    {
     "data": {
      "text/plain": [
       "array([[2, 3, 4],\n",
       "       [4, 5, 6],\n",
       "       [6, 7, 8]])"
      ]
     },
     "execution_count": 21,
     "metadata": {},
     "output_type": "execute_result"
    }
   ],
   "source": [
    "# Arrays can also be multi-dimensional:\n",
    "\n",
    "np.array([range(i, i +3) for i in [2,4,6]])"
   ]
  },
  {
   "cell_type": "markdown",
   "metadata": {},
   "source": [
    "### Creating Arrays from Scratch\n",
    "\n",
    "* Large arrays are much easier to simulate than type"
   ]
  },
  {
   "cell_type": "code",
   "execution_count": 23,
   "metadata": {},
   "outputs": [
    {
     "data": {
      "text/plain": [
       "array([0, 0, 0, 0, 0, 0, 0, 0, 0, 0])"
      ]
     },
     "execution_count": 23,
     "metadata": {},
     "output_type": "execute_result"
    }
   ],
   "source": [
    "# Length-10 array with all zeros\n",
    "\n",
    "np.zeros(10, dtype =int)"
   ]
  },
  {
   "cell_type": "code",
   "execution_count": 24,
   "metadata": {},
   "outputs": [
    {
     "data": {
      "text/plain": [
       "array([[ 1.,  1.,  1.,  1.,  1.],\n",
       "       [ 1.,  1.,  1.,  1.,  1.],\n",
       "       [ 1.,  1.,  1.,  1.,  1.]])"
      ]
     },
     "execution_count": 24,
     "metadata": {},
     "output_type": "execute_result"
    }
   ],
   "source": [
    "# 3x5 floating point filled with ones\n",
    "\n",
    "np.ones((3,5), dtype =float)"
   ]
  },
  {
   "cell_type": "code",
   "execution_count": 26,
   "metadata": {},
   "outputs": [
    {
     "data": {
      "text/plain": [
       "array([[ 3.14,  3.14,  3.14,  3.14,  3.14],\n",
       "       [ 3.14,  3.14,  3.14,  3.14,  3.14],\n",
       "       [ 3.14,  3.14,  3.14,  3.14,  3.14]])"
      ]
     },
     "execution_count": 26,
     "metadata": {},
     "output_type": "execute_result"
    }
   ],
   "source": [
    "# 3x5 array filled with 3.14\n",
    "\n",
    "np.full((3,5), 3.14)\n"
   ]
  },
  {
   "cell_type": "code",
   "execution_count": 27,
   "metadata": {},
   "outputs": [
    {
     "data": {
      "text/plain": [
       "array([ 0,  2,  4,  6,  8, 10, 12, 14, 16, 18])"
      ]
     },
     "execution_count": 27,
     "metadata": {},
     "output_type": "execute_result"
    }
   ],
   "source": [
    "# Create an array filled with a linear sequence\n",
    "# Starting at 0, ending at 20, stepping by 2\n",
    "# (this is similar to the built-in range() function)\n",
    "np.arange(0, 20, 2)"
   ]
  },
  {
   "cell_type": "code",
   "execution_count": 28,
   "metadata": {},
   "outputs": [
    {
     "data": {
      "text/plain": [
       "array([ 0.  ,  0.25,  0.5 ,  0.75,  1.  ])"
      ]
     },
     "execution_count": 28,
     "metadata": {},
     "output_type": "execute_result"
    }
   ],
   "source": [
    "# Create an array of five values evenly spaced between 0 and 1\n",
    "np.linspace(0, 1, 5)"
   ]
  },
  {
   "cell_type": "code",
   "execution_count": 29,
   "metadata": {},
   "outputs": [
    {
     "data": {
      "text/plain": [
       "array([[ 0.43792302,  0.06793742, -0.64720062],\n",
       "       [-0.90185708,  1.39566231, -0.09898672],\n",
       "       [ 0.06199128, -0.46798243,  0.18993909]])"
      ]
     },
     "execution_count": 29,
     "metadata": {},
     "output_type": "execute_result"
    }
   ],
   "source": [
    "# Create a 3x3 array of normally distributed ransom values with mean 0 and sd 1\n",
    "np.random.normal(0, 1, (3,3))"
   ]
  },
  {
   "cell_type": "code",
   "execution_count": 30,
   "metadata": {},
   "outputs": [
    {
     "data": {
      "text/plain": [
       "array([[4, 9, 7],\n",
       "       [4, 2, 3],\n",
       "       [0, 2, 2]])"
      ]
     },
     "execution_count": 30,
     "metadata": {},
     "output_type": "execute_result"
    }
   ],
   "source": [
    "# Create a 3x3 array of random integers in the interval [0,10]\n",
    "np.random.randint(0, 10, (3,3))"
   ]
  },
  {
   "cell_type": "code",
   "execution_count": 31,
   "metadata": {},
   "outputs": [
    {
     "data": {
      "text/plain": [
       "array([[ 1.,  0.,  0.],\n",
       "       [ 0.,  1.,  0.],\n",
       "       [ 0.,  0.,  1.]])"
      ]
     },
     "execution_count": 31,
     "metadata": {},
     "output_type": "execute_result"
    }
   ],
   "source": [
    "# Create a 3x3 identity matrix\n",
    "\n",
    "np.eye(3)"
   ]
  },
  {
   "cell_type": "code",
   "execution_count": 32,
   "metadata": {},
   "outputs": [
    {
     "data": {
      "text/plain": [
       "array([ 1.,  1.,  1.])"
      ]
     },
     "execution_count": 32,
     "metadata": {},
     "output_type": "execute_result"
    }
   ],
   "source": [
    "# Create an inititialized aeeay of three intergers \n",
    "# The values will be whatever happens to already exist at that moeory\n",
    "np.empty(3)"
   ]
  },
  {
   "cell_type": "markdown",
   "metadata": {},
   "source": [
    "### NumPy data types\n",
    "\n",
    "\n",
    "*Data type\tDescription\n",
    "\n",
    "*bool_\tBoolean (True or False) stored as a byte\n",
    "\n",
    "*int_\tDefault integer type (same as C long; normally either int64 or int32)\n",
    "\n",
    "*intc\tIdentical to C int (normally int32 or int64)\n",
    "\n",
    "*intp\tInteger used for indexing (same as C ssize_t; normally either int32 or int64)\n",
    "\n",
    "*int8\tByte (-128 to 127)\n",
    "\n",
    "*int16\tInteger (-32768 to 32767)\n",
    "\n",
    "*int32\tInteger (-2147483648 to 2147483647)\n",
    "\n",
    "*int64\tInteger (-9223372036854775808 to 9223372036854775807)\n",
    "\n",
    "*uint8\tUnsigned integer (0 to 255)\n",
    "\n",
    "*uint16\tUnsigned integer (0 to 65535)\n",
    "\n",
    "*uint32\tUnsigned integer (0 to 4294967295)\n",
    "\n",
    "*uint64\tUnsigned integer (0 to 18446744073709551615)\n",
    "\n",
    "*float_\tShorthand for float64.\n",
    "*float16\tHalf precision float: sign bit, 5 bits exponent, 10 bits mantissa\n",
    "*float32\tSingle precision float: sign bit, 8 bits exponent, 23 bits mantissa\n",
    "*float64\tDouble precision float: sign bit, 11 bits exponent, 52 bits mantissa\n",
    "*complex_\tShorthand for complex128.\n",
    "*complex64\tComplex number, represented by two 32-bit floats\n",
    "*complex128\tComplex number, represented by two 64-bit floats"
   ]
  },
  {
   "cell_type": "code",
   "execution_count": null,
   "metadata": {},
   "outputs": [],
   "source": []
  },
  {
   "cell_type": "code",
   "execution_count": null,
   "metadata": {},
   "outputs": [],
   "source": []
  }
 ],
 "metadata": {
  "kernelspec": {
   "display_name": "Python 3",
   "language": "python",
   "name": "python3"
  },
  "language_info": {
   "codemirror_mode": {
    "name": "ipython",
    "version": 3
   },
   "file_extension": ".py",
   "mimetype": "text/x-python",
   "name": "python",
   "nbconvert_exporter": "python",
   "pygments_lexer": "ipython3",
   "version": "3.6.2"
  }
 },
 "nbformat": 4,
 "nbformat_minor": 2
}
